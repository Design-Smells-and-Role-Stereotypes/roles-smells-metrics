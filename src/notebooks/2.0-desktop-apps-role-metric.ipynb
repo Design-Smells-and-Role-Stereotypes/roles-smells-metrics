{
 "cells": [
  {
   "cell_type": "code",
   "execution_count": 26,
   "metadata": {},
   "outputs": [],
   "source": [
    "import os\n",
    "import warnings\n",
    "import pandas as pd\n",
    "import numpy as np\n",
    "import re\n",
    "import glob\n",
    "\n",
    "from matplotlib import pyplot as plt\n",
    "from rolestereotype import RoleStereotype as rs\n",
    "\n",
    "warnings.filterwarnings('ignore')\n",
    "import seaborn as sns\n",
    "\n",
    "sns.set()\n",
    "sns.set_style(style='white')\n",
    "%matplotlib inline"
   ]
  },
  {
   "cell_type": "code",
   "execution_count": 27,
   "metadata": {},
   "outputs": [
    {
     "data": {
      "text/plain": [
       "['ipscan-3.7.3',\n",
       " 'LiveChatServer-4.1',\n",
       " 'JetUML-3.1',\n",
       " 'ganttproject-2.8.11',\n",
       " 'GoGreen-0.1.3',\n",
       " 'LogFX-0.9.1',\n",
       " 'pgptool-0.5.9.2',\n",
       " 'argouml-0.35.1',\n",
       " 'keystore-explorer-5.4.4',\n",
       " 'SweetHome3D-5.6',\n",
       " 'jEdit-5.5.0',\n",
       " 'mars-sim-3.1.0',\n",
       " 'checkstyle-8.39',\n",
       " 'freemind-1.0.0',\n",
       " 'jpass-0.1.20']"
      ]
     },
     "execution_count": 27,
     "metadata": {},
     "output_type": "execute_result"
    }
   ],
   "source": [
    "# create the list of selected projects \n",
    "\n",
    "path  = '../../data/SourceProjects/Desktop/'\n",
    "projects = [projects for projects in os.listdir(path) if not projects.startswith('.')]\n",
    "projects"
   ]
  },
  {
   "cell_type": "code",
   "execution_count": 28,
   "metadata": {},
   "outputs": [],
   "source": [
    "rstr = [str(r) for r in rs]"
   ]
  },
  {
   "cell_type": "code",
   "execution_count": 31,
   "metadata": {},
   "outputs": [
    {
     "name": "stdout",
     "output_type": "stream",
     "text": [
      "ipscan-3.7.3             ( 159 classes) Controller:   0,  Coordinator:   0,  Information Holder:  27,  Interfacer:  13,  Service Provider: 118,  Structurer:   1\n",
      "LiveChatServer-4.1       (  23 classes) Controller:   0,  Coordinator:   0,  Information Holder:   8,  Interfacer:   4,  Service Provider:  11,  Structurer:   0\n",
      "JetUML-3.1               ( 174 classes) Controller:   1,  Coordinator:   2,  Information Holder:  51,  Interfacer:  10,  Service Provider: 110,  Structurer:   0\n",
      "ganttproject-2.8.11      ( 685 classes) Controller:   1,  Coordinator:   3,  Information Holder: 146,  Interfacer:  58,  Service Provider: 465,  Structurer:  12\n",
      "GoGreen-0.1.3            (  66 classes) Controller:   2,  Coordinator:   1,  Information Holder:  18,  Interfacer:   0,  Service Provider:  45,  Structurer:   0\n",
      "LogFX-0.9.1              (  43 classes) Controller:   0,  Coordinator:   0,  Information Holder:  14,  Interfacer:   7,  Service Provider:  22,  Structurer:   0\n",
      "pgptool-0.5.9.2          ( 226 classes) Controller:   0,  Coordinator:   0,  Information Holder:  74,  Interfacer:  39,  Service Provider: 113,  Structurer:   0\n",
      "argouml-0.35.1           (1290 classes) Controller:   2,  Coordinator:   3,  Information Holder: 216,  Interfacer: 102,  Service Provider: 962,  Structurer:   5\n",
      "keystore-explorer-5.4.4  ( 400 classes) Controller:   0,  Coordinator:   3,  Information Holder: 102,  Interfacer:  73,  Service Provider: 222,  Structurer:   0\n",
      "SweetHome3D-5.6          ( 546 classes) Controller:  38,  Coordinator:  21,  Information Holder: 227,  Interfacer:  63,  Service Provider: 159,  Structurer:  38\n",
      "jEdit-5.5.0              ( 583 classes) Controller:   3,  Coordinator:   0,  Information Holder: 130,  Interfacer:  34,  Service Provider: 414,  Structurer:   2\n",
      "mars-sim-3.1.0           (1114 classes) Controller:   5,  Coordinator:   1,  Information Holder: 348,  Interfacer: 250,  Service Provider: 484,  Structurer:  26\n",
      "checkstyle-8.39          (1056 classes) Controller:   0,  Coordinator:   1,  Information Holder: 413,  Interfacer:  18,  Service Provider: 618,  Structurer:   6\n",
      "freemind-1.0.0           ( 371 classes) Controller:   9,  Coordinator:   0,  Information Holder:  66,  Interfacer:  35,  Service Provider: 254,  Structurer:   7\n",
      "jpass-0.1.20             (  38 classes) Controller:   0,  Coordinator:   0,  Information Holder:   9,  Interfacer:   3,  Service Provider:  26,  Structurer:   0\n"
     ]
    }
   ],
   "source": [
    "datasets = dict()\n",
    "for prj in projects:\n",
    "\n",
    "  # role stereotype classification results\n",
    "  files_rs = glob.glob(f\"../../data/RoleStereotype/Desktop/{prj}/*-features-classified.csv\")\n",
    "  df_rs = pd.read_csv(files_rs[0])\n",
    "  df_ck = pd.read_csv(f'../../data/Metrics/ck/Desktop/{prj}/class.csv')\n",
    "\n",
    "  # generate common identifier\n",
    "  df_rs['classname2'] = [re.sub(r\".*[\\\\/]|\\.java$\", '', n).replace(\".\", \"$\") for n in df_rs['Fullpathname']]\n",
    "  df_ck['classname2'] = [re.sub(r\".*\\.\", '', n) for n in df_ck['class']]\n",
    "\n",
    "  # join the 2 dataframes\n",
    "  df_rs.rename(columns={'loc': 'loc_1'}, inplace=True)\n",
    "  df_merged = pd.merge(df_rs, df_ck, on= \"classname2\", how= \"inner\")\n",
    "  datasets[prj] = df_merged\n",
    "\n",
    "  line = f\"{prj:24} ({df_merged.shape[0]:4} classes)\"\n",
    "  ct = df_merged['label'].value_counts(ascending=True, sort=False)\n",
    "  print(f\"{line} {',  '.join([f'{r}:{ct[r] if r in ct.keys() else 0:4}' for r in rstr])}\")"
   ]
  },
  {
   "cell_type": "code",
   "execution_count": 32,
   "metadata": {},
   "outputs": [
    {
     "data": {
      "text/plain": [
       "41"
      ]
     },
     "execution_count": 32,
     "metadata": {},
     "output_type": "execute_result"
    }
   ],
   "source": [
    "# all class metrics: cbo,cboModified,fanin,fanout,wmc,dit,noc,rfc,lcom,lcom*,tcc,lcc,totalMethodsQty,staticMethodsQty,publicMethodsQty,privateMethodsQty,protectedMethodsQty,defaultMethodsQty,visibleMethodsQty,abstractMethodsQty,finalMethodsQty,synchronizedMethodsQty,totalFieldsQty,staticFieldsQty,publicFieldsQty,privateFieldsQty,protectedFieldsQty,defaultFieldsQty,finalFieldsQty,synchronizedFieldsQty,nosi,loc,returnQty,loopQty,comparisonsQty,tryCatchQty,parenthesizedExpsQty,stringLiteralsQty,numbersQty,assignmentsQty,mathOperationsQty,variablesQty,maxNestedBlocksQty,anonymousClassesQty,innerClassesQty,lambdasQty,uniqueWordsQty,modifiers,logStatementsQty\n",
    "metrics = \"cbo,cboModified,fanin,fanout,wmc,dit,noc,rfc,lcom*,tcc,lcc,totalMethodsQty,publicMethodsQty,privateMethodsQty,abstractMethodsQty,finalMethodsQty,totalFieldsQty,publicFieldsQty,privateFieldsQty,finalFieldsQty,nosi,loc,returnQty,loopQty,comparisonsQty,tryCatchQty,parenthesizedExpsQty,stringLiteralsQty,numbersQty,assignmentsQty,mathOperationsQty,variablesQty,maxNestedBlocksQty,anonymousClassesQty,innerClassesQty,lambdasQty,uniqueWordsQty,ratio_publicMethods,ratio_privateMethods,ratio_publicFields,ratio_privateFields\".split(',')\n",
    "len(metrics)"
   ]
  },
  {
   "cell_type": "code",
   "execution_count": 33,
   "metadata": {},
   "outputs": [],
   "source": [
    "alldf = pd.DataFrame()\n",
    "for prj,df in datasets.items():\n",
    "  df['project'] = [prj] * df.shape[0]\n",
    "  alldf = alldf.append(df)\n",
    "\n",
    "# throw away invalid values\n",
    "alldf['tcc'] = [np.nan if n==-1 else n for n in alldf['tcc']]\n",
    "alldf['lcc'] = [np.nan if n==-1 else n for n in alldf['lcc']]\n",
    "\n",
    "# add ratios\n",
    "alldf['ratio_publicMethods'] = alldf['publicMethodsQty']/alldf['totalMethodsQty']\n",
    "alldf['ratio_privateMethods'] = alldf['privateMethodsQty']/alldf['totalMethodsQty']\n",
    "alldf['ratio_publicFields'] = alldf['publicFieldsQty']/alldf['totalFieldsQty']\n",
    "alldf['ratio_privateFields'] = alldf['privateFieldsQty']/alldf['totalFieldsQty']"
   ]
  },
  {
   "cell_type": "code",
   "execution_count": 34,
   "metadata": {},
   "outputs": [],
   "source": [
    "#alldf.to_csv(\"../../results/csv/desktop.csv\")"
   ]
  },
  {
   "cell_type": "code",
   "execution_count": 35,
   "metadata": {},
   "outputs": [],
   "source": [
    "metrics_def = {\n",
    "  'cbo': \"CBO (Coupling between objects): Counts the number of dependencies a class has. The tools checks for any type used in the entire class (field declaration, method return types, variable declarations, etc). It ignores dependencies to Java itself (e.g. java.lang.String).\",\n",
    "  'cboModified': \"CBO Modified (Coupling between objects): Counts the number of dependencies a class has. It is very similar to the CKTool's original CBO. However, this metric considers a dependency from a class as being both the references the type makes to others and the references that it receives from other types.\",\n",
    "  'fanin': \"FAN-IN: Counts the number of input dependencies a class has, i.e, the number of classes that reference a particular class. For instance, given a class X, the fan-in of X would be the number of classes that call X by referencing it as an attribute, accessing some of its attributes, invoking some of its methods, etc.\",\n",
    "  'fanout': \"FAN-OUT: Counts the number of output dependencies a class has, i.e, the number of other classes referenced by a particular class. In other words, given a class X, the fan-out of X is the number of classes called by X via attributes reference, method invocations, object instances, etc.\",\n",
    "  'dit': \"DIT (Depth Inheritance Tree): It counts the number of \\\"fathers\\\" a class has. All classes have DIT at least 1 (everyone inherits java.lang.Object). In order to make it happen, classes must exist in the project (i.e. if a class depends upon X which relies in a jar/dependency file, and X depends upon other classes, DIT is counted as 2).\",\n",
    "  'noc': \"NOC (Number of Children): It counts the number of immediate subclasses that a particular class has.\",\n",
    "  'FieldsQty': \"Number of fields: Counts the number of fields. Specific numbers for total number of fields, static, public, private, protected, default, final, and synchronized fields.\",\n",
    "  'MethodsQty': \"Number of methods: Counts the number of methods. Specific numbers for total number of methods, static, public, abstract, private, protected, default, final, and synchronized methods. Constructor methods also count here.\",\n",
    "  'visibleMethodsQty': \"Number of visible methods: Counts the number of visible methods. A method is visible if it is not private.\",\n",
    "  'nosi': \"NOSI (Number of static invocations): Counts the number of invocations to static methods. It can only count the ones that can be resolved by the JDT.\",\n",
    "  'rfc': \"RFC (Response for a Class): Counts the number of unique method invocations in a class. As invocations are resolved via static analysis, this implementation fails when a method has overloads with same number of parameters, but different types.\",\n",
    "  'wmc': \"WMC (Weight Method Class) or McCabe's complexity. It counts the number of branch instructions in a class.\",\n",
    "  'loc': \"LOC (Lines of code): It counts the lines of count, ignoring empty lines and comments (i.e., it's Source Lines of Code, or SLOC). The number of lines here might be a bit different from the original file, as we use JDT's internal representation of the source code to calculate it.\",\n",
    "  'lcom': \"LCOM (Lack of Cohesion of Methods): Calculates LCOM metric. This is the very first version of metric, which is not reliable. LCOM-HS can be better (hopefully, you will send us a pull request).\",\n",
    "  'lcom*': \"LCOM* (Lack of Cohesion of Methods): This metric is a modified version of the current version of LCOM implemented in CK Tool. LCOM* is a normalized metric that computes the lack of cohesion of class within a range of 0 to 1. Then, the closer to 1 the value of LCOM* in a class, the less the cohesion degree of this respective class. The closer to 0 the value of LCOM* in a class, the most the cohesion of this respective class. This implementation follows the third version of LCOM* defined in [1]. Reference: [1] Henderson-Sellers, Brian, Larry L. Constantine and Ian M. Graham. “Coupling and cohesion (towards a valid metrics suite for object-oriented analysis and design).” Object Oriented Systems 3 (1996): 143-158.\",\n",
    "  'tcc': \"TCC (Tight Class Cohesion): Measures the cohesion of a class with a value range from 0 to 1. TCC measures the cohesion of a class via direct connections between visible methods, two methods or their invocation trees access the same class variable.\",\n",
    "  'lcc': \"LCC (Loose Class Cohesion): Similar to TCC but it further includes the number of indirect connections between visible classes for the cohesion calculation. Thus, the constraint LCC >= TCC holds always.\",\n",
    "  'returnQty': \"Quantity of returns: The number of return instructions.\",\n",
    "  'loopQty': \"Quantity of loops: The number of loops (i.e., for, while, do while, enhanced for).\",\n",
    "  'comparisonsQty': \"Quantity of comparisons: The number of comparisons (i.e., == and !=). Note: != is only available in 0.4.2+.\",\n",
    "  'tryCatchQty': \"Quantity of try/catches: The number of try/catches\",\n",
    "  'parenthesizedExpsQty': \"Quantity of parenthesized expressions: The number of expressions inside parenthesis.\",\n",
    "  'stringLiteralsQty': \"String literals: The number of string literals (e.g., \\\"John Doe\\\"). Repeated strings count as many times as they appear.\",\n",
    "  'numbersQty': \"Quantity of Number: The number of numbers (i.e., int, long, double, float) literals.\",\n",
    "  'mathOperationsQty': \"Quantity of Math Operations: The number of math operations (times, divide, remainder, plus, minus, left shit, right shift).\",\n",
    "  'variablesQty': \"Quantity of Variables: Number of declared variables.\",\n",
    "  'maxNestedBlocksQty': \"Max nested blocks: The highest number of blocks nested together.\",\n",
    "  'anonymousClassesQty': \"Quantity of Anonymous classes, inner classes, and lambda expressions: The name says it all. Note that whenever an anonymous class or an inner class is declared, it becomes an \\\"entire new class\\\", e.g., CK generates A.B and A.B$C, C being an inner class inside A.B. However, lambda expressions are not considered classes, and thus, are part of the class/method they are embedded into. A class or a method only has the number of inner classes that are declared at its level, e.g., an inner class that is declared inside a method M2, that is inside an anonymous class A, that is declared inside a method M, that finally is declared inside a class C, will not count in class C, but only in method M2 (first-level method it is embodied), and anonymous class A (first-level class it is embodied).\",\n",
    "  'uniqueWordsQty': \"Number of unique words: Number of unique words in the source code. At method level, it only uses the method body as input. At class level, it uses the entire body of the class as metrics. The algorithm basically counts the number of words in a method/class, after removing Java keywords. Names are split based on camel case and underline (e.g., longName_likeThis becomes four words). See WordCounter class for details on the implementation.\",\n",
    "  'logStatementsQty': \"Number of Log Statements: Number of log statements in the source code. The counting uses REGEX compatible with SLF4J and Log4J API calls. See NumberOfLogStatements.java and the test examples (NumberOfLogStatementsTest and fixtures/logs) for more info.\",\n",
    "\n",
    "# Has Javadoc: Boolean indicating whether a method has javadoc. (Only at method-level for now)\n",
    "  'modifiers': \"modifiers: public/abstract/private/protected/native modifiers of classes/methods. Can be decoded using org.eclipse.jdt.core.dom.Modifier.\",\n",
    "\n",
    "# Usage of each variable: How often each variable was used inside each method.\n",
    "\n",
    "# Usage of each field: How often each local field was used inside each method, local field are fields within a class (subclasses are not included). Also indirect local field usages are detected, indirect local field usages include all usages of fields within the local invocation tree of a class e.g. A invokes B and B uses field a, then a is indirectly used by A.\n",
    "\n",
    "# Method invocations: All directly invoked methods, variations are local invocations and indirect local invocations.\n",
    "}"
   ]
  },
  {
   "cell_type": "code",
   "execution_count": 36,
   "metadata": {},
   "outputs": [],
   "source": [
    "# order by LOC\n",
    "\n",
    "prj_order = list(alldf.groupby(['project']).sum()['loc'].sort_values(ascending=False).keys())\n",
    "prj_order\n",
    "\n",
    "# order by QScored (see \"qscored-desktop-apps.ipynb\")\n",
    "\n",
    "q_order = ['argouml-v0.35.1',\n",
    " 'freemind-v1.0.0',\n",
    " 'ganttproject-v2.8.11',\n",
    " 'pgptool-v0.5.9.2',\n",
    " 'LogFX-v0.9.1',\n",
    " 'GoGreen-v.0.1.3',\n",
    " 'keystore-explorer-v5.4.4',\n",
    " 'jEdit-v5.5.0',\n",
    " 'ipscan-v3.7.3',\n",
    " 'jpass-v0.1.20',\n",
    " 'mars-sim-v3.1.0',\n",
    " 'sweethome3d-5.6',\n",
    " 'LiveChatServer-v4.1',\n",
    " 'JetUML-v3.1']"
   ]
  }
 ],
 "metadata": {
  "kernelspec": {
   "display_name": "Python 3.8.8 ('env': venv)",
   "language": "python",
   "name": "python3"
  },
  "language_info": {
   "codemirror_mode": {
    "name": "ipython",
    "version": 3
   },
   "file_extension": ".py",
   "mimetype": "text/x-python",
   "name": "python",
   "nbconvert_exporter": "python",
   "pygments_lexer": "ipython3",
   "version": "3.8.8"
  },
  "orig_nbformat": 4,
  "vscode": {
   "interpreter": {
    "hash": "d228407235ccf1507864dc974297be8e8ce55cb074cef0e9ad91d57978835c74"
   }
  }
 },
 "nbformat": 4,
 "nbformat_minor": 2
}
